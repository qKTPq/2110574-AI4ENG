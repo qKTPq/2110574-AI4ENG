{
  "nbformat": 4,
  "nbformat_minor": 0,
  "metadata": {
    "colab": {
      "provenance": [],
      "include_colab_link": true
    },
    "kernelspec": {
      "display_name": "Python 3",
      "language": "python",
      "name": "python3"
    }
  },
  "cells": [
    {
      "cell_type": "markdown",
      "metadata": {
        "id": "view-in-github",
        "colab_type": "text"
      },
      "source": [
        "<a href=\"https://colab.research.google.com/github/qKTPq/2110574-AI4ENG/blob/main/Informed.ipynb\" target=\"_parent\"><img src=\"https://colab.research.google.com/assets/colab-badge.svg\" alt=\"Open In Colab\"/></a>"
      ]
    },
    {
      "cell_type": "markdown",
      "metadata": {
        "id": "yJsyS6_pjF8v"
      },
      "source": [
        "A Star 8 Puzzles"
      ]
    },
    {
      "cell_type": "code",
      "metadata": {
        "id": "LuuXryBmP9Vr",
        "colab": {
          "base_uri": "https://localhost:8080/"
        },
        "outputId": "b4208623-fa85-4a0f-c36f-21ec84bd83d5"
      },
      "source": [
        "last_index = 0\n",
        "visited_node = {}\n",
        "goal_state = '8123456780'\n",
        "total_nodes = 0\n",
        "total_expanded_nodes = 0\n",
        "\n",
        "def h1(state,cost): # misplaced tile\n",
        "  count = 0\n",
        "  for i in range(1,10):\n",
        "    if state[i] == '0':\n",
        "      continue\n",
        "    if state[i] != goal_state[i]:\n",
        "      count += 1\n",
        "  return count+cost\n",
        "\n",
        "def manhattan(state,goal,ind):\n",
        "  j = goal[1:].find(state[ind+1])\n",
        "  rj = j//3\n",
        "  cj = j%3\n",
        "  ri = ind//3\n",
        "  ci = ind%3\n",
        "    # print(j,rj,cj,(i-1),ri,ci)\n",
        "  return abs(rj-ri)+abs(cj-ci)\n",
        "\n",
        "def h2(state,cost): # total Manhattan distance\n",
        "  count = 0\n",
        "  for i in range(1,10):\n",
        "    if state[i] == '0':\n",
        "      continue\n",
        "    count += manhattan(state,goal_state,i-1)\n",
        "  return count+cost\n",
        "\n",
        "def gen_successors(node):\n",
        "    global last_index\n",
        "    node_id,level,cost,f = node[1],node[3],node[4],node[5]\n",
        "    ret = []\n",
        "    state = node[0]\n",
        "    loc = int(state[0])\n",
        "    puzzle = state[1:]\n",
        "    if loc % 3 != 0:\n",
        "        new_state = str(loc-1) + puzzle[:loc-1] + puzzle[loc] + puzzle[loc-1] + puzzle[loc+1:]\n",
        "        ret += [(new_state,last_index+1,node[1],level+1,cost+1,h1(new_state,cost+1))]\n",
        "        last_index += 1\n",
        "        # print('L'+new_state)\n",
        "    if (loc+1) % 3 != 0:\n",
        "        new_state = str(loc+1) + puzzle[:loc] + puzzle[loc+1] + puzzle[loc] + puzzle[loc+2:]\n",
        "        ret += [(new_state,last_index+1,node[1],level+1,cost+1,h1(new_state,cost+1))]\n",
        "        last_index += 1\n",
        "        # print('R'+new_state)\n",
        "    if loc >= 3:\n",
        "        new_state = str(loc-3) + puzzle[:loc-3] + puzzle[loc] + puzzle[loc-2:loc] + puzzle[loc-3] + puzzle[loc+1:]\n",
        "        ret += [(new_state,last_index+1,node[1],level+1,cost+1,h1(new_state,cost+1))]\n",
        "        last_index += 1\n",
        "        # print('U'+new_state)\n",
        "    if loc <= 5:\n",
        "        new_state = str(loc+3) + puzzle[:loc] + puzzle[loc+3] + puzzle[loc+1:loc+3] + puzzle[loc] + puzzle[loc+4:]\n",
        "        ret += [(new_state,last_index+1,node[1],level+1,cost+1,h1(new_state,cost+1))]\n",
        "        last_index += 1\n",
        "        # print('D'+new_state)\n",
        "    return ret\n",
        "\n",
        "def is_goal(node):\n",
        "    return node[0] == '8123456780'\n",
        "\n",
        "def insert_all(node,fringe):\n",
        "    global total_nodes\n",
        "    children = gen_successors(node)\n",
        "    total_nodes += len(children)\n",
        "    for child in children:\n",
        "      inserted = False\n",
        "      for j in range(len(fringe)):\n",
        "        if child[4]+child[5] < fringe[j][4]+fringe[j][5]:\n",
        "          fringe[j:j] = [child]\n",
        "          inserted = True\n",
        "          break\n",
        "      if not inserted:\n",
        "        fringe.append(child)\n",
        "    # print(fringe)\n",
        "\n",
        "def show_result(g,visited_node):\n",
        "    current_node = g\n",
        "    parent_index = current_node[1]\n",
        "    while True:\n",
        "        print(current_node[0][1:4])\n",
        "        print(current_node[0][4:7])\n",
        "        print(current_node[0][7:])\n",
        "        print()\n",
        "        parent_index = current_node[2]\n",
        "        if parent_index == -1:\n",
        "            break\n",
        "        current_node = visited_node[parent_index]\n",
        "\n",
        "def a_star(start_node):\n",
        "    global last_index\n",
        "    global visited_node\n",
        "    global total_expanded_nodes\n",
        "\n",
        "    last_index = 0\n",
        "    fringe = [start_node]\n",
        "    # print(fringe)\n",
        "    visited_node = {}\n",
        "    while True:\n",
        "        if len(fringe) == 0:\n",
        "            print('Not Found')\n",
        "            break\n",
        "        front = fringe[0]\n",
        "        visited_node[front[1]] = front\n",
        "        fringe = fringe[1:]\n",
        "        total_expanded_nodes += 1\n",
        "        if is_goal(front):\n",
        "            show_result(front,visited_node)\n",
        "            return\n",
        "        insert_all(front,fringe)\n",
        "\n",
        "a_star(('2170532486',0,-1,0,0,0)) # (state,node_id,parent_id,depth,cost,f) # 3135072486 1401852736\n",
        "print(total_expanded_nodes)\n",
        "\n",
        "\n",
        "\n"
      ],
      "execution_count": null,
      "outputs": [
        {
          "output_type": "stream",
          "name": "stdout",
          "text": [
            "123\n",
            "456\n",
            "780\n",
            "\n",
            "123\n",
            "456\n",
            "708\n",
            "\n",
            "123\n",
            "456\n",
            "078\n",
            "\n",
            "123\n",
            "056\n",
            "478\n",
            "\n",
            "123\n",
            "506\n",
            "478\n",
            "\n",
            "123\n",
            "576\n",
            "408\n",
            "\n",
            "123\n",
            "576\n",
            "480\n",
            "\n",
            "123\n",
            "570\n",
            "486\n",
            "\n",
            "120\n",
            "573\n",
            "486\n",
            "\n",
            "102\n",
            "573\n",
            "486\n",
            "\n",
            "172\n",
            "503\n",
            "486\n",
            "\n",
            "172\n",
            "530\n",
            "486\n",
            "\n",
            "170\n",
            "532\n",
            "486\n",
            "\n",
            "11738\n"
          ]
        }
      ]
    },
    {
      "cell_type": "code",
      "metadata": {
        "id": "LUOmfJjvMwRK",
        "colab": {
          "base_uri": "https://localhost:8080/",
          "height": 57
        },
        "outputId": "d58d3f9f-f9ed-4d9c-f829-9ec40dfbb940"
      },
      "source": [
        "import random\n",
        "\n",
        "def gen_start(state,step):\n",
        "  for i in range(step):\n",
        "    loc0 = int(state[0])\n",
        "    dir = random.randint(0,3)\n",
        "    if dir == 0 and loc0 >= 3:\n",
        "      new_loc0 = loc0 - 3\n",
        "    elif dir == 1 and loc0 <= 5:\n",
        "      new_loc0 = loc0 + 3\n",
        "    elif dir == 2 and loc0%3 != 0:\n",
        "      new_loc0 = loc0 - 1\n",
        "    elif dir == 3 and (loc0+1)%3 != 0:\n",
        "      new_loc0 = loc0 + 1\n",
        "    else:\n",
        "      new_loc0 = loc0\n",
        "    newstate = list(state[1:])\n",
        "    newstate[loc0],newstate[new_loc0] = newstate[new_loc0],newstate[loc0]\n",
        "    newstate = str(new_loc0)+''.join(newstate)\n",
        "    state = newstate\n",
        "  return newstate\n",
        "\n",
        "goal_state = '8123456780'\n",
        "gen_start(goal_state,60)"
      ],
      "execution_count": null,
      "outputs": [
        {
          "output_type": "execute_result",
          "data": {
            "text/plain": [
              "'2170532486'"
            ],
            "application/vnd.google.colaboratory.intrinsic+json": {
              "type": "string"
            }
          },
          "metadata": {},
          "execution_count": 8
        }
      ]
    },
    {
      "cell_type": "code",
      "metadata": {
        "id": "XJUeLeOOeiK3"
      },
      "source": [],
      "execution_count": null,
      "outputs": []
    }
  ]
}